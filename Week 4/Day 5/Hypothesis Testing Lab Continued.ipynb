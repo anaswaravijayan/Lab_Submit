{
 "cells": [
  {
   "cell_type": "markdown",
   "id": "72149a3d",
   "metadata": {},
   "source": [
    "# Hypothesis Testing Lab"
   ]
  },
  {
   "cell_type": "code",
   "execution_count": 3,
   "id": "3b44dd48",
   "metadata": {},
   "outputs": [],
   "source": [
    "import numpy as np\n",
    "import pandas as pd\n",
    "import scipy.stats as stats\n",
    "import matplotlib.pyplot as plt\n",
    "import seaborn as sns\n",
    "\n",
    "%matplotlib inline"
   ]
  },
  {
   "cell_type": "markdown",
   "id": "fd9aa2a1",
   "metadata": {},
   "source": [
    " Is the group significantly different (with respect to systolic blood pressure) from the regular population?"
   ]
  },
  {
   "cell_type": "markdown",
   "id": "c349c0da",
   "metadata": {},
   "source": [
    "TWO TAIL PROBLEM USING T-TEST"
   ]
  },
  {
   "cell_type": "markdown",
   "id": "ad2c4d7c",
   "metadata": {},
   "source": [
    "Mean systolic blood pressure is 120\n",
    "Study Sample is 100\n",
    "Average Mean 130.1\n",
    "St.Dev. of a Sample 21.21"
   ]
  },
  {
   "cell_type": "code",
   "execution_count": 4,
   "id": "a34d14bb",
   "metadata": {},
   "outputs": [
    {
     "name": "stdout",
     "output_type": "stream",
     "text": [
      "Test statistic: -4.761904761904759\n",
      "Critical value: 1.9842169515086827\n",
      "p-value: 6.562701817208617e-06\n"
     ]
    }
   ],
   "source": [
    "import numpy as np\n",
    "from scipy import stats\n",
    "\n",
    "# Sample statistics\n",
    "population_mean = 130.1\n",
    "sample_mean = 120\n",
    "sample_std = 21.21\n",
    "sample_size = 100\n",
    "\n",
    "# Calculate the test statistic\n",
    "t_statistic = (sample_mean - population_mean) / (sample_std / np.sqrt(sample_size))\n",
    "\n",
    "# Perform the one-sample t-test\n",
    "t_critical = stats.t.ppf(0.975, df=sample_size-1)  # Two-tailed test, 95% confidence level\n",
    "p_value = stats.t.sf(np.abs(t_statistic), df=sample_size-1) * 2\n",
    "\n",
    "# Print the results\n",
    "print(\"Test statistic:\", t_statistic)\n",
    "print(\"Critical value:\", t_critical)\n",
    "print(\"p-value:\", p_value)\n"
   ]
  },
  {
   "cell_type": "markdown",
   "id": "d150520b",
   "metadata": {},
   "source": [
    "Conclusion:\n",
    "The group significantly different (with respect to systolic blood pressure) from the regular population"
   ]
  },
  {
   "cell_type": "markdown",
   "id": "ea5c887b",
   "metadata": {},
   "source": [
    "## HYPOTHESIS TESTING CONTINUED...."
   ]
  },
  {
   "cell_type": "markdown",
   "id": "e5a17563",
   "metadata": {},
   "source": [
    "In a packing plant, a machine packs cartons with jars. It is supposed that a new machine will pack faster on the average than the machine currently used. To test that hypothesis, the times it takes each machine to pack ten cartons are recorded. The results, in seconds, are shown in the tables in the file Data/machine.txt. Assume that there is sufficient evidence to conduct the t test, does the data provide sufficient evidence to show if one machine is better than the other.\n",
    "Hint: use two sample t-test\n",
    "\n",
    "t= (sample_mean(x1) - sample_mean(x2)) / sqrt(square(s1)/n1 + square(s2)/n2 )"
   ]
  },
  {
   "cell_type": "markdown",
   "id": "34064f13",
   "metadata": {},
   "source": [
    "New Machine\t  Old Machine\n",
    "42.1\t        42.7\n",
    "41\t          43.6\n",
    "41.3\t        43.8\n",
    "41.8\t        43.3\n",
    "42.4\t        42.5\n",
    "42.8\t        43.5\n",
    "43.2\t        43.1\n",
    "42.3\t        41.7\n",
    "41.8\t        44\n",
    "42.7\t        44.1"
   ]
  },
  {
   "cell_type": "code",
   "execution_count": 8,
   "id": "54747347",
   "metadata": {},
   "outputs": [],
   "source": [
    "new = [42.1,41,41.3,41.8,42.4,42.8,43.2,42.3,41.8,42.7]\n",
    "old = [42.7,43.6,43.8,43.3,42.5,43.5,43.1,41.7,44,44.1]"
   ]
  },
  {
   "cell_type": "code",
   "execution_count": 9,
   "id": "dd12cc1d",
   "metadata": {},
   "outputs": [
    {
     "data": {
      "text/plain": [
       "42.14"
      ]
     },
     "execution_count": 9,
     "metadata": {},
     "output_type": "execute_result"
    }
   ],
   "source": [
    "n_mean = np.average(new)\n",
    "n_mean"
   ]
  },
  {
   "cell_type": "code",
   "execution_count": 11,
   "id": "4a700d9d",
   "metadata": {},
   "outputs": [
    {
     "data": {
      "text/plain": [
       "43.230000000000004"
      ]
     },
     "execution_count": 11,
     "metadata": {},
     "output_type": "execute_result"
    }
   ],
   "source": [
    "o_mean = np.average (old)\n",
    "o_mean"
   ]
  },
  {
   "cell_type": "code",
   "execution_count": 13,
   "id": "88fa1880",
   "metadata": {},
   "outputs": [
    {
     "data": {
      "text/plain": [
       "0.6483826030978941"
      ]
     },
     "execution_count": 13,
     "metadata": {},
     "output_type": "execute_result"
    }
   ],
   "source": [
    "n_std = np.std(new)\n",
    "n_std"
   ]
  },
  {
   "cell_type": "code",
   "execution_count": 15,
   "id": "fea40075",
   "metadata": {},
   "outputs": [
    {
     "data": {
      "text/plain": [
       "0.7114070564732956"
      ]
     },
     "execution_count": 15,
     "metadata": {},
     "output_type": "execute_result"
    }
   ],
   "source": [
    "o_std = np.std(old)\n",
    "o_std"
   ]
  },
  {
   "cell_type": "code",
   "execution_count": 16,
   "id": "d2e94a96",
   "metadata": {},
   "outputs": [],
   "source": [
    "n1=10\n",
    "n2=10"
   ]
  },
  {
   "cell_type": "code",
   "execution_count": 17,
   "id": "4b1af113",
   "metadata": {},
   "outputs": [
    {
     "data": {
      "text/plain": [
       "-3.5809955894645813"
      ]
     },
     "execution_count": 17,
     "metadata": {},
     "output_type": "execute_result"
    }
   ],
   "source": [
    "t = (n_mean-o_mean)/np.sqrt(np.square(n_std)/n1 + np.square (o_std)/n2)\n",
    "t"
   ]
  },
  {
   "cell_type": "markdown",
   "id": "84413f2f",
   "metadata": {},
   "source": [
    "We reject H0."
   ]
  }
 ],
 "metadata": {
  "kernelspec": {
   "display_name": "Python 3 (ipykernel)",
   "language": "python",
   "name": "python3"
  },
  "language_info": {
   "codemirror_mode": {
    "name": "ipython",
    "version": 3
   },
   "file_extension": ".py",
   "mimetype": "text/x-python",
   "name": "python",
   "nbconvert_exporter": "python",
   "pygments_lexer": "ipython3",
   "version": "3.10.9"
  }
 },
 "nbformat": 4,
 "nbformat_minor": 5
}
